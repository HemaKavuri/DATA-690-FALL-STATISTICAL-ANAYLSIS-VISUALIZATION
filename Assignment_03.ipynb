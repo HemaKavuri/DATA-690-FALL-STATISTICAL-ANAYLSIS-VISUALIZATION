{
  "nbformat": 4,
  "nbformat_minor": 0,
  "metadata": {
    "colab": {
      "provenance": [],
      "collapsed_sections": [],
      "authorship_tag": "ABX9TyMy/PBY/N9E2IvQt8UZQWaJ",
      "include_colab_link": true
    },
    "kernelspec": {
      "name": "python3",
      "display_name": "Python 3"
    },
    "language_info": {
      "name": "python"
    }
  },
  "cells": [
    {
      "cell_type": "markdown",
      "metadata": {
        "id": "view-in-github",
        "colab_type": "text"
      },
      "source": [
        "<a href=\"https://colab.research.google.com/github/HemaKavuri/DATA-690-FALL-STATISTICAL-ANAYLSIS-VISUALIZATION/blob/main/Assignment_03.ipynb\" target=\"_parent\"><img src=\"https://colab.research.google.com/assets/colab-badge.svg\" alt=\"Open In Colab\"/></a>"
      ]
    },
    {
      "cell_type": "markdown",
      "source": [
        "Libraries"
      ],
      "metadata": {
        "id": "AqXXwIdJp40T"
      }
    },
    {
      "cell_type": "code",
      "execution_count": 1,
      "metadata": {
        "id": "gBvU7ZZCf85Q"
      },
      "outputs": [],
      "source": [
        "import random\n",
        "import numpy as np"
      ]
    },
    {
      "cell_type": "markdown",
      "source": [
        "Write a program that generates 100 random integers between 0 and 9.\n",
        "\n",
        "1. Print them in a 10 by 10 matrix neatly arranged like the following (one space between each number):\n",
        "\n",
        "\n",
        "          5 1 5 6 2 7 8 6 4 2\n",
        "          2 3 7 0 6 9 2 4 2 8 \n",
        "          0 0 8 6 4 1 7 2 7 6 \n",
        "          0 1 9 0 0 8 5 8 6 8 \n",
        "          4 1 0 5 5 7 4 6 4 4 \n",
        "          6 0 2 0 1 9 8 2 3 9 \n",
        "          4 0 4 8 1 7 6 6 2 1 \n",
        "          1 7 6 8 5 4 1 9 6 7 \n",
        "          6 4 7 9 9 3 8 2 6 1 \n",
        "          9 0 6 4 0 1 0 6 9 9 "
      ],
      "metadata": {
        "id": "FTDvQ0YZqOFF"
      }
    },
    {
      "cell_type": "markdown",
      "source": [
        "**Code**"
      ],
      "metadata": {
        "id": "tKJFlNI6rnVF"
      }
    },
    {
      "cell_type": "code",
      "source": [
        "array = np.random.randint(10, size=(10, 10))\n",
        "for i in range(len(array)):\n",
        "  for j in range(10):\n",
        "    print(array[i][j], end = \"  \")\n",
        "  print(\"\\n\")\n",
        "    "
      ],
      "metadata": {
        "colab": {
          "base_uri": "https://localhost:8080/"
        },
        "id": "3C9wuPoNhTYr",
        "outputId": "5c47dc94-7057-4a21-a45a-7230baa29bc1"
      },
      "execution_count": 2,
      "outputs": [
        {
          "output_type": "stream",
          "name": "stdout",
          "text": [
            "8  7  2  0  7  1  9  8  4  8  \n",
            "\n",
            "0  1  0  6  8  5  7  4  3  1  \n",
            "\n",
            "6  2  7  8  1  6  7  5  8  8  \n",
            "\n",
            "1  5  4  2  9  6  6  4  1  7  \n",
            "\n",
            "2  0  1  3  3  1  8  2  0  8  \n",
            "\n",
            "4  1  9  2  0  2  8  2  3  5  \n",
            "\n",
            "5  8  0  1  0  9  2  2  5  6  \n",
            "\n",
            "0  3  2  7  4  9  4  1  1  1  \n",
            "\n",
            "5  5  6  9  2  7  2  5  7  7  \n",
            "\n",
            "0  9  3  7  9  4  9  7  6  1  \n",
            "\n"
          ]
        }
      ]
    },
    {
      "cell_type": "markdown",
      "source": [
        "2. If the random number is an odd number, print \"@\" instead. like the following:\n",
        "\n",
        "       @ @ 0 2 6 @ 8 8 0 0 \n",
        "       @ 4 @ 4 4 @ 2 @ 2 2 \n",
        "       @ 6 8 @ @ @ 0 @ 0 @ \n",
        "       2 6 @ 0 @ 2 @ @ 0 @ \n",
        "       8 4 @ @ @ 0 @ @ 6 @ \n",
        "       @ @ 4 6 @ @ @ 2 @ 2 \n",
        "       @ @ @ @ 4 @ @ 2 2 0 \n",
        "       @ 6 @ 0 0 8 @ 2 0 @ \n",
        "       8 8 @ @ @ 0 0 @ 4 6 \n",
        "       @ 2 2 6 8 2 @ @ @ 6"
      ],
      "metadata": {
        "id": "uWZtDHDTrLkb"
      }
    },
    {
      "cell_type": "markdown",
      "source": [
        "**Code**"
      ],
      "metadata": {
        "id": "E1HwMo_iwZ1E"
      }
    },
    {
      "cell_type": "code",
      "source": [
        "array = np.random.randint(10, size=(10, 10))\n",
        "for i in range(len(array)):\n",
        "  for j in range(10):\n",
        "    if((array[i][j] %2)!=0):\n",
        "       print('@',end=\"  \")\n",
        "    else:\n",
        "      print(array[i][j], end = \"  \")\n",
        "  print(\"\\n\")"
      ],
      "metadata": {
        "colab": {
          "base_uri": "https://localhost:8080/"
        },
        "id": "3WUvFq2wgo2P",
        "outputId": "f34352ad-9036-4b07-aafb-3010651358a2"
      },
      "execution_count": 3,
      "outputs": [
        {
          "output_type": "stream",
          "name": "stdout",
          "text": [
            "@  8  2  @  0  4  @  8  4  0  \n",
            "\n",
            "4  @  @  2  @  8  8  8  0  @  \n",
            "\n",
            "6  @  0  @  @  8  6  6  @  @  \n",
            "\n",
            "@  6  @  4  6  6  2  @  @  4  \n",
            "\n",
            "@  @  @  @  8  @  2  @  @  8  \n",
            "\n",
            "2  @  6  @  @  @  @  @  @  @  \n",
            "\n",
            "@  @  @  4  @  2  @  @  @  @  \n",
            "\n",
            "@  0  @  @  6  @  @  @  2  0  \n",
            "\n",
            "0  @  @  @  0  6  8  @  4  8  \n",
            "\n",
            "@  @  2  6  8  @  4  6  6  2  \n",
            "\n"
          ]
        }
      ]
    },
    {
      "cell_type": "markdown",
      "source": [
        "Question 3"
      ],
      "metadata": {
        "id": "5d7RLaa9wbra"
      }
    },
    {
      "cell_type": "markdown",
      "source": [
        "3. Calculate and Print the total of each row like the following (use \"*\" to separate the total from the numbers):\n",
        "\n",
        "       7 6 5 8 8 0 7 6 0 1 * 48 \n",
        "       8 5 7 9 8 0 9 3 0 1 * 50 \n",
        "       4 0 3 5 3 9 0 8 3 9 * 44 \n",
        "       3 5 5 3 8 3 4 3 2 2 * 38 \n",
        "       7 7 4 1 2 7 2 3 0 8 * 41 \n",
        "       3 9 7 7 0 9 4 0 6 5 * 50 \n",
        "       1 9 7 1 3 0 0 1 4 5 * 31 \n",
        "       4 4 0 6 7 4 5 6 9 3 * 48 \n",
        "       2 1 1 4 2 0 1 2 9 2 * 24\n",
        "       2 1 6 7 7 8 1 0 0 4 * 36"
      ],
      "metadata": {
        "id": "giWPhAoartJK"
      }
    },
    {
      "cell_type": "markdown",
      "source": [
        "**Code**"
      ],
      "metadata": {
        "id": "gRI5mTh4sAvB"
      }
    },
    {
      "cell_type": "code",
      "source": [
        "array = np.random.randint(10, size=(10, 10))\n",
        "sum=0\n",
        "for i in range(len(array)):\n",
        "  for j in range(10):\n",
        "    print(array[i][j], end = \"  \")\n",
        "    sum=sum+array[i][j]\n",
        "  print('*',\" \",sum)\n",
        "  print(\"\\n\")\n"
      ],
      "metadata": {
        "colab": {
          "base_uri": "https://localhost:8080/"
        },
        "id": "qF0QEQw8mH33",
        "outputId": "37c3820d-5f38-4031-b9d1-480586885030"
      },
      "execution_count": 4,
      "outputs": [
        {
          "output_type": "stream",
          "name": "stdout",
          "text": [
            "8  2  6  7  3  0  9  9  3  6  *   53\n",
            "\n",
            "\n",
            "7  4  4  4  8  7  6  9  2  4  *   108\n",
            "\n",
            "\n",
            "4  0  0  9  4  1  7  1  4  2  *   140\n",
            "\n",
            "\n",
            "4  4  5  8  5  3  0  9  3  0  *   181\n",
            "\n",
            "\n",
            "1  0  1  6  9  5  6  9  6  6  *   230\n",
            "\n",
            "\n",
            "2  8  5  0  0  0  8  5  2  1  *   261\n",
            "\n",
            "\n",
            "7  6  3  5  7  0  9  9  6  2  *   315\n",
            "\n",
            "\n",
            "7  0  7  4  0  4  2  8  8  7  *   362\n",
            "\n",
            "\n",
            "0  8  0  5  1  8  9  7  7  2  *   409\n",
            "\n",
            "\n",
            "4  0  2  6  2  5  1  8  8  1  *   446\n",
            "\n",
            "\n"
          ]
        }
      ]
    },
    {
      "cell_type": "markdown",
      "source": [
        "Question 4"
      ],
      "metadata": {
        "id": "BpTBahKWwehl"
      }
    },
    {
      "cell_type": "markdown",
      "source": [
        " 4. Surround the matrix with asterisks (*) like the following:\n",
        "     \n",
        "        ***********************\n",
        "        * 5 1 5 6 2 7 8 6 4 2 *\n",
        "        * 2 3 7 0 6 9 2 4 2 8 *\n",
        "        * 0 0 8 6 4 1 7 2 7 6 *\n",
        "        * 0 1 9 0 0 8 5 8 6 8 *\n",
        "        * 4 1 0 5 5 7 4 6 4 4 *\n",
        "        * 6 0 2 0 1 9 8 2 3 9 *\n",
        "        * 4 0 4 8 1 7 6 6 2 1 *\n",
        "        * 1 7 6 8 5 4 1 9 6 7 *\n",
        "        * 6 4 7 9 9 3 8 2 6 1 *\n",
        "        * 9 0 6 4 0 1 0 6 9 9 *\n",
        "        ***********************"
      ],
      "metadata": {
        "id": "0DwzBRwssEF5"
      }
    },
    {
      "cell_type": "markdown",
      "source": [
        "**Code**"
      ],
      "metadata": {
        "id": "XxqWCNN2sdJ4"
      }
    },
    {
      "cell_type": "code",
      "source": [
        "array = np.random.randint(10, size=(10, 10))\n",
        "print('***********************************')\n",
        "for i in range(len(array)):\n",
        "   for j in range(10):\n",
        "     if(j==0):\n",
        "       print('*',\" \",array[i][j], end = \"  \")\n",
        "     else:\n",
        "       print(array[i][j], end = \"  \")\n",
        "   print(\"*\")\n",
        "   print(\"\\n\")\n",
        "print('***********************************')"
      ],
      "metadata": {
        "colab": {
          "base_uri": "https://localhost:8080/"
        },
        "id": "0nSBSLRknV5S",
        "outputId": "cb99b1f9-dab1-4c7d-ae36-83a03c945dca"
      },
      "execution_count": 5,
      "outputs": [
        {
          "output_type": "stream",
          "name": "stdout",
          "text": [
            "***********************************\n",
            "*   5  7  6  9  2  6  4  5  6  1  *\n",
            "\n",
            "\n",
            "*   0  2  7  4  3  4  2  2  5  9  *\n",
            "\n",
            "\n",
            "*   9  4  5  5  6  4  8  1  6  2  *\n",
            "\n",
            "\n",
            "*   7  2  7  6  1  4  1  8  9  0  *\n",
            "\n",
            "\n",
            "*   7  9  2  4  7  3  5  5  3  4  *\n",
            "\n",
            "\n",
            "*   5  5  5  5  9  5  6  5  9  4  *\n",
            "\n",
            "\n",
            "*   2  5  9  5  2  3  9  9  9  8  *\n",
            "\n",
            "\n",
            "*   2  5  3  6  7  9  1  0  6  0  *\n",
            "\n",
            "\n",
            "*   0  2  2  6  9  8  2  5  0  5  *\n",
            "\n",
            "\n",
            "*   0  1  9  7  9  1  0  2  3  7  *\n",
            "\n",
            "\n",
            "***********************************\n"
          ]
        }
      ]
    },
    {
      "cell_type": "markdown",
      "source": [
        "Question 5"
      ],
      "metadata": {
        "id": "gCWFNoV3whKL"
      }
    },
    {
      "cell_type": "markdown",
      "source": [
        "5. Calculate and Print the total of each row and column like the following:\n",
        "\n",
        "       6  8  0  2  3  4  2  2  4  4  * 35 \n",
        "       3  7  5  8  9  7  4  8  6  0  * 57 \n",
        "       4  7  7  4  3  8  2  1  7  0  * 43 \n",
        "       7  8  1  3  0  8  4  7  9  2  * 49 \n",
        "       0  0  2  4  5  6  6  7  1  4  * 35 \n",
        "       3  7  0  0  7  3  3  2  1  6  * 32 \n",
        "       2  5  6  6  5  6  5  5  4  7  * 51 \n",
        "       9  2  7  5  5  9  2  4  7  9  * 59 \n",
        "       0  0  4  7  6  3  9  6  6  7  * 48 \n",
        "       0  1  6  5  2  7  4  1  6  4  * 36 \n",
        "       *  *  *  *  *  *  *  *  *  *  \n",
        "       34 45 38 44 45 61 41 43 51 43 "
      ],
      "metadata": {
        "id": "KIA5HGRwsmJe"
      }
    },
    {
      "cell_type": "markdown",
      "source": [
        "**Code**"
      ],
      "metadata": {
        "id": "KWNZ2dfNs16J"
      }
    },
    {
      "cell_type": "code",
      "source": [
        "array = np.random.randint(10, size=(10, 10))\n",
        "sum=0\n",
        "total=0\n",
        "column=[0,0,0,0,0,0,0,0,0,0]\n",
        "for i in range(len(array)):\n",
        "  for j in range(10):\n",
        "    column[j]+=array[i][j]\n",
        "    print(array[i][j], end = \"  \")\n",
        "    sum=sum+array[i][j]\n",
        "  print('*',\" \",sum)\n",
        "  print(\"\\n\")\n",
        "for i in range(len(column)):\n",
        "  print('*',end=\"  \")\n",
        "print('\\n')\n",
        "for i in range(len(column)):\n",
        "  print(column[i],end=\" \")\n",
        "\n",
        "  \n",
        " "
      ],
      "metadata": {
        "colab": {
          "base_uri": "https://localhost:8080/"
        },
        "id": "ekg8LiwMocj1",
        "outputId": "87187f57-eb99-4ef0-d500-159bd86e4b14"
      },
      "execution_count": 7,
      "outputs": [
        {
          "output_type": "stream",
          "name": "stdout",
          "text": [
            "0  7  9  2  6  0  4  5  7  9  *   49\n",
            "\n",
            "\n",
            "4  7  7  1  0  4  1  5  0  5  *   83\n",
            "\n",
            "\n",
            "3  5  8  0  9  9  2  5  4  1  *   129\n",
            "\n",
            "\n",
            "2  9  7  0  8  5  1  6  9  9  *   185\n",
            "\n",
            "\n",
            "9  2  9  1  4  8  9  8  2  5  *   242\n",
            "\n",
            "\n",
            "8  2  5  2  6  9  1  5  4  9  *   293\n",
            "\n",
            "\n",
            "8  4  8  6  7  8  8  9  9  5  *   365\n",
            "\n",
            "\n",
            "1  8  0  5  2  7  9  7  5  0  *   409\n",
            "\n",
            "\n",
            "0  0  0  2  2  4  8  4  9  1  *   439\n",
            "\n",
            "\n",
            "6  7  7  6  9  8  9  8  8  0  *   507\n",
            "\n",
            "\n",
            "*  *  *  *  *  *  *  *  *  *  \n",
            "\n",
            "41 51 60 25 53 62 52 62 57 44 "
          ]
        }
      ]
    }
  ]
}