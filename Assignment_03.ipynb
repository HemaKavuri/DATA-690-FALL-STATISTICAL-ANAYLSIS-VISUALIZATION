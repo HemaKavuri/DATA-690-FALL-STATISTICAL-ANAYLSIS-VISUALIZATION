{
  "nbformat": 4,
  "nbformat_minor": 0,
  "metadata": {
    "colab": {
      "provenance": [],
      "collapsed_sections": [],
      "authorship_tag": "ABX9TyNmDALWKksUPbofY9+gM93g",
      "include_colab_link": true
    },
    "kernelspec": {
      "name": "python3",
      "display_name": "Python 3"
    },
    "language_info": {
      "name": "python"
    }
  },
  "cells": [
    {
      "cell_type": "markdown",
      "metadata": {
        "id": "view-in-github",
        "colab_type": "text"
      },
      "source": [
        "<a href=\"https://colab.research.google.com/github/HemaKavuri/DATA-690-FALL-STATISTICAL-ANAYLSIS-VISUALIZATION/blob/main/Assignment_03.ipynb\" target=\"_parent\"><img src=\"https://colab.research.google.com/assets/colab-badge.svg\" alt=\"Open In Colab\"/></a>"
      ]
    },
    {
      "cell_type": "markdown",
      "source": [
        "Libraries"
      ],
      "metadata": {
        "id": "AqXXwIdJp40T"
      }
    },
    {
      "cell_type": "code",
      "execution_count": null,
      "metadata": {
        "id": "gBvU7ZZCf85Q"
      },
      "outputs": [],
      "source": [
        "import random"
      ]
    },
    {
      "cell_type": "markdown",
      "source": [
        "Write a program that generates 100 random integers between 0 and 9.\n",
        "\n",
        "1. Print them in a 10 by 10 matrix neatly arranged like the following (one space between each number):\n",
        "\n",
        "\n",
        "          5 1 5 6 2 7 8 6 4 2\n",
        "          2 3 7 0 6 9 2 4 2 8 \n",
        "          0 0 8 6 4 1 7 2 7 6 \n",
        "          0 1 9 0 0 8 5 8 6 8 \n",
        "          4 1 0 5 5 7 4 6 4 4 \n",
        "          6 0 2 0 1 9 8 2 3 9 \n",
        "          4 0 4 8 1 7 6 6 2 1 \n",
        "          1 7 6 8 5 4 1 9 6 7 \n",
        "          6 4 7 9 9 3 8 2 6 1 \n",
        "          9 0 6 4 0 1 0 6 9 9 "
      ],
      "metadata": {
        "id": "FTDvQ0YZqOFF"
      }
    },
    {
      "cell_type": "markdown",
      "source": [
        "**Code**"
      ],
      "metadata": {
        "id": "tKJFlNI6rnVF"
      }
    },
    {
      "cell_type": "code",
      "source": [
        "rows,cols=10,10\n",
        "rand_list=[[0 for i in range(cols)] for j in range(rows)]\n",
        "for i in range(10):\n",
        "  for j in range(10):\n",
        "    rand_list[i][j]=random.randint(0,9)\n",
        "    print(rand_list[i][j],end=\" \")\n",
        "  print(\"\\n\")"
      ],
      "metadata": {
        "colab": {
          "base_uri": "https://localhost:8080/"
        },
        "id": "5LeHnubyyt8m",
        "outputId": "79e17d1a-1d6d-4915-8116-0e82d1554e6e"
      },
      "execution_count": 93,
      "outputs": [
        {
          "output_type": "stream",
          "name": "stdout",
          "text": [
            "9 6 8 6 2 9 5 8 0 0 \n",
            "\n",
            "5 1 1 9 8 6 9 2 8 1 \n",
            "\n",
            "4 0 1 1 5 8 0 3 5 2 \n",
            "\n",
            "9 1 5 0 2 9 6 0 0 5 \n",
            "\n",
            "7 9 7 3 2 1 5 8 7 1 \n",
            "\n",
            "9 1 0 7 4 0 4 9 8 6 \n",
            "\n",
            "9 9 1 6 8 2 8 2 1 3 \n",
            "\n",
            "6 5 0 6 3 1 9 2 5 5 \n",
            "\n",
            "2 4 1 3 7 3 6 4 0 8 \n",
            "\n",
            "3 6 3 5 3 3 8 7 6 2 \n",
            "\n"
          ]
        }
      ]
    },
    {
      "cell_type": "code",
      "source": [
        "rand_list"
      ],
      "metadata": {
        "colab": {
          "base_uri": "https://localhost:8080/"
        },
        "id": "qVa3RKf0-hlm",
        "outputId": "22de8b22-425a-4457-95f9-aa05deae6cf1"
      },
      "execution_count": 94,
      "outputs": [
        {
          "output_type": "execute_result",
          "data": {
            "text/plain": [
              "[[9, 6, 8, 6, 2, 9, 5, 8, 0, 0],\n",
              " [5, 1, 1, 9, 8, 6, 9, 2, 8, 1],\n",
              " [4, 0, 1, 1, 5, 8, 0, 3, 5, 2],\n",
              " [9, 1, 5, 0, 2, 9, 6, 0, 0, 5],\n",
              " [7, 9, 7, 3, 2, 1, 5, 8, 7, 1],\n",
              " [9, 1, 0, 7, 4, 0, 4, 9, 8, 6],\n",
              " [9, 9, 1, 6, 8, 2, 8, 2, 1, 3],\n",
              " [6, 5, 0, 6, 3, 1, 9, 2, 5, 5],\n",
              " [2, 4, 1, 3, 7, 3, 6, 4, 0, 8],\n",
              " [3, 6, 3, 5, 3, 3, 8, 7, 6, 2]]"
            ]
          },
          "metadata": {},
          "execution_count": 94
        }
      ]
    },
    {
      "cell_type": "markdown",
      "source": [
        "2. If the random number is an odd number, print \"@\" instead. like the following:\n",
        "\n",
        "       @ @ 0 2 6 @ 8 8 0 0 \n",
        "       @ 4 @ 4 4 @ 2 @ 2 2 \n",
        "       @ 6 8 @ @ @ 0 @ 0 @ \n",
        "       2 6 @ 0 @ 2 @ @ 0 @ \n",
        "       8 4 @ @ @ 0 @ @ 6 @ \n",
        "       @ @ 4 6 @ @ @ 2 @ 2 \n",
        "       @ @ @ @ 4 @ @ 2 2 0 \n",
        "       @ 6 @ 0 0 8 @ 2 0 @ \n",
        "       8 8 @ @ @ 0 0 @ 4 6 \n",
        "       @ 2 2 6 8 2 @ @ @ 6"
      ],
      "metadata": {
        "id": "uWZtDHDTrLkb"
      }
    },
    {
      "cell_type": "markdown",
      "source": [
        "**Code**"
      ],
      "metadata": {
        "id": "E1HwMo_iwZ1E"
      }
    },
    {
      "cell_type": "code",
      "source": [
        "for i in range(10):\n",
        "  for j in range(10):\n",
        "    if((rand_list[i][j] %2)!=0):\n",
        "       print('@',end=\"  \")\n",
        "    else:\n",
        "      print(rand_list[i][j],end=\"  \")\n",
        "  print(\"\\n\")"
      ],
      "metadata": {
        "colab": {
          "base_uri": "https://localhost:8080/"
        },
        "id": "M8wnJv8o4KUc",
        "outputId": "cf5d205b-35dc-4f17-abdd-7971286b86c8"
      },
      "execution_count": 95,
      "outputs": [
        {
          "output_type": "stream",
          "name": "stdout",
          "text": [
            "@  6  8  6  2  @  @  8  0  0  \n",
            "\n",
            "@  @  @  @  8  6  @  2  8  @  \n",
            "\n",
            "4  0  @  @  @  8  0  @  @  2  \n",
            "\n",
            "@  @  @  0  2  @  6  0  0  @  \n",
            "\n",
            "@  @  @  @  2  @  @  8  @  @  \n",
            "\n",
            "@  @  0  @  4  0  4  @  8  6  \n",
            "\n",
            "@  @  @  6  8  2  8  2  @  @  \n",
            "\n",
            "6  @  0  6  @  @  @  2  @  @  \n",
            "\n",
            "2  4  @  @  @  @  6  4  0  8  \n",
            "\n",
            "@  6  @  @  @  @  8  @  6  2  \n",
            "\n"
          ]
        }
      ]
    },
    {
      "cell_type": "markdown",
      "source": [
        "Question 3"
      ],
      "metadata": {
        "id": "5d7RLaa9wbra"
      }
    },
    {
      "cell_type": "markdown",
      "source": [
        "3. Calculate and Print the total of each row like the following (use \"*\" to separate the total from the numbers):\n",
        "\n",
        "       7 6 5 8 8 0 7 6 0 1 * 48 \n",
        "       8 5 7 9 8 0 9 3 0 1 * 50 \n",
        "       4 0 3 5 3 9 0 8 3 9 * 44 \n",
        "       3 5 5 3 8 3 4 3 2 2 * 38 \n",
        "       7 7 4 1 2 7 2 3 0 8 * 41 \n",
        "       3 9 7 7 0 9 4 0 6 5 * 50 \n",
        "       1 9 7 1 3 0 0 1 4 5 * 31 \n",
        "       4 4 0 6 7 4 5 6 9 3 * 48 \n",
        "       2 1 1 4 2 0 1 2 9 2 * 24\n",
        "       2 1 6 7 7 8 1 0 0 4 * 36"
      ],
      "metadata": {
        "id": "giWPhAoartJK"
      }
    },
    {
      "cell_type": "markdown",
      "source": [
        "**Code**"
      ],
      "metadata": {
        "id": "gRI5mTh4sAvB"
      }
    },
    {
      "cell_type": "code",
      "source": [
        "\n",
        "for i in range(10):\n",
        "  sum=0\n",
        "  for j in range(10):\n",
        "    rand_list[i][j]=random.randint(0,9)\n",
        "    print(rand_list[i][j], end = \"  \")\n",
        "    sum=sum+rand_list[i][j]\n",
        "  print('*',\" \",sum) \n",
        "  print(\"\\n\")"
      ],
      "metadata": {
        "colab": {
          "base_uri": "https://localhost:8080/"
        },
        "id": "CqHbQpWI5EIa",
        "outputId": "a3e3788c-2e8f-43b7-b43c-25e0aac47fbe"
      },
      "execution_count": 96,
      "outputs": [
        {
          "output_type": "stream",
          "name": "stdout",
          "text": [
            "9  6  1  9  4  5  3  3  5  3  *   48\n",
            "\n",
            "\n",
            "4  0  7  6  2  4  5  8  4  3  *   43\n",
            "\n",
            "\n",
            "6  7  8  8  1  7  1  2  4  7  *   51\n",
            "\n",
            "\n",
            "3  0  9  1  1  8  9  3  8  9  *   51\n",
            "\n",
            "\n",
            "1  4  1  3  2  3  2  1  2  1  *   20\n",
            "\n",
            "\n",
            "9  8  2  2  9  7  4  4  2  2  *   49\n",
            "\n",
            "\n",
            "8  1  8  2  0  0  3  2  1  4  *   29\n",
            "\n",
            "\n",
            "6  8  9  2  4  4  6  7  6  2  *   54\n",
            "\n",
            "\n",
            "4  2  5  0  6  4  6  9  7  5  *   48\n",
            "\n",
            "\n",
            "4  0  1  1  9  9  5  5  4  4  *   42\n",
            "\n",
            "\n"
          ]
        }
      ]
    },
    {
      "cell_type": "markdown",
      "source": [
        "Question 4"
      ],
      "metadata": {
        "id": "BpTBahKWwehl"
      }
    },
    {
      "cell_type": "markdown",
      "source": [
        " 4. Surround the matrix with asterisks (*) like the following:\n",
        "     \n",
        "        ***********************\n",
        "        * 5 1 5 6 2 7 8 6 4 2 *\n",
        "        * 2 3 7 0 6 9 2 4 2 8 *\n",
        "        * 0 0 8 6 4 1 7 2 7 6 *\n",
        "        * 0 1 9 0 0 8 5 8 6 8 *\n",
        "        * 4 1 0 5 5 7 4 6 4 4 *\n",
        "        * 6 0 2 0 1 9 8 2 3 9 *\n",
        "        * 4 0 4 8 1 7 6 6 2 1 *\n",
        "        * 1 7 6 8 5 4 1 9 6 7 *\n",
        "        * 6 4 7 9 9 3 8 2 6 1 *\n",
        "        * 9 0 6 4 0 1 0 6 9 9 *\n",
        "        ***********************"
      ],
      "metadata": {
        "id": "0DwzBRwssEF5"
      }
    },
    {
      "cell_type": "markdown",
      "source": [
        "**Code**"
      ],
      "metadata": {
        "id": "XxqWCNN2sdJ4"
      }
    },
    {
      "cell_type": "code",
      "source": [
        "rows,cols=10,10\n",
        "rand_list=[[0]*cols]*rows\n",
        "print('***********************************')\n",
        "for i in range(10):\n",
        "  for j in range(10):\n",
        "    rand_list[i][j]=random.randint(0,9)\n",
        "    if(j==0):\n",
        "       print('*',\" \",rand_list[i][j], end = \"  \")\n",
        "    else:\n",
        "       print(rand_list[i][j], end = \"  \")\n",
        "  print(\"*\")\n",
        "  print(\"\\n\")\n",
        "print('***********************************')"
      ],
      "metadata": {
        "colab": {
          "base_uri": "https://localhost:8080/"
        },
        "id": "dMB9t9K16YYo",
        "outputId": "a849c3c1-11d7-494c-d82d-b0bc4ebb4fd9"
      },
      "execution_count": 97,
      "outputs": [
        {
          "output_type": "stream",
          "name": "stdout",
          "text": [
            "***********************************\n",
            "*   2  9  4  3  6  9  0  3  2  4  *\n",
            "\n",
            "\n",
            "*   8  8  5  1  8  3  1  5  0  1  *\n",
            "\n",
            "\n",
            "*   1  6  2  1  8  0  3  3  5  0  *\n",
            "\n",
            "\n",
            "*   9  5  8  7  2  2  6  8  5  5  *\n",
            "\n",
            "\n",
            "*   2  7  0  8  9  7  4  0  1  2  *\n",
            "\n",
            "\n",
            "*   9  9  6  8  5  9  3  2  9  2  *\n",
            "\n",
            "\n",
            "*   0  7  6  7  6  9  8  5  5  0  *\n",
            "\n",
            "\n",
            "*   9  1  0  1  3  1  4  5  6  8  *\n",
            "\n",
            "\n",
            "*   8  5  1  0  3  5  5  9  1  1  *\n",
            "\n",
            "\n",
            "*   7  1  7  2  4  6  6  8  7  9  *\n",
            "\n",
            "\n",
            "***********************************\n"
          ]
        }
      ]
    },
    {
      "cell_type": "markdown",
      "source": [
        "Question 5"
      ],
      "metadata": {
        "id": "gCWFNoV3whKL"
      }
    },
    {
      "cell_type": "markdown",
      "source": [
        "5. Calculate and Print the total of each row and column like the following:\n",
        "\n",
        "       6  8  0  2  3  4  2  2  4  4  * 35 \n",
        "       3  7  5  8  9  7  4  8  6  0  * 57 \n",
        "       4  7  7  4  3  8  2  1  7  0  * 43 \n",
        "       7  8  1  3  0  8  4  7  9  2  * 49 \n",
        "       0  0  2  4  5  6  6  7  1  4  * 35 \n",
        "       3  7  0  0  7  3  3  2  1  6  * 32 \n",
        "       2  5  6  6  5  6  5  5  4  7  * 51 \n",
        "       9  2  7  5  5  9  2  4  7  9  * 59 \n",
        "       0  0  4  7  6  3  9  6  6  7  * 48 \n",
        "       0  1  6  5  2  7  4  1  6  4  * 36 \n",
        "       *  *  *  *  *  *  *  *  *  *  \n",
        "       34 45 38 44 45 61 41 43 51 43 "
      ],
      "metadata": {
        "id": "KIA5HGRwsmJe"
      }
    },
    {
      "cell_type": "markdown",
      "source": [
        "**Code**"
      ],
      "metadata": {
        "id": "KWNZ2dfNs16J"
      }
    },
    {
      "cell_type": "code",
      "source": [
        "rows,cols=10,10\n",
        "rand_list=[[0]*cols]*rows\n",
        "\n",
        "total=0\n",
        "column=[0,0,0,0,0,0,0,0,0,0]\n",
        "for i in range(10):\n",
        "  sum=0\n",
        "  for j in range(10):\n",
        "    rand_list[i][j]=random.randint(0,9)\n",
        "    column[j]+=rand_list[i][j]\n",
        "    print(rand_list[i][j], end = \"  \")\n",
        "    sum=sum+rand_list[i][j]\n",
        "  print('*',\" \",sum)\n",
        "  print(\"\\n\")\n",
        "for i in range(len(column)):\n",
        "  print('*',end=\"  \")\n",
        "print(\"\\n\")\n",
        "for i in range(len(column)):\n",
        "  print(column[i],end=\" \")"
      ],
      "metadata": {
        "colab": {
          "base_uri": "https://localhost:8080/"
        },
        "id": "NcdMs9e864w8",
        "outputId": "e5fa5fdf-e4a1-4f66-ae0c-1aae6cfaafcc"
      },
      "execution_count": 98,
      "outputs": [
        {
          "output_type": "stream",
          "name": "stdout",
          "text": [
            "2  4  0  2  4  6  1  9  6  4  *   38\n",
            "\n",
            "\n",
            "2  6  6  8  2  5  0  6  5  9  *   49\n",
            "\n",
            "\n",
            "1  6  3  4  9  8  5  1  2  2  *   41\n",
            "\n",
            "\n",
            "6  4  9  6  8  2  7  2  0  1  *   45\n",
            "\n",
            "\n",
            "7  1  1  1  1  0  5  9  2  7  *   34\n",
            "\n",
            "\n",
            "4  0  8  7  3  9  0  9  6  6  *   52\n",
            "\n",
            "\n",
            "8  6  1  3  5  2  7  0  3  8  *   43\n",
            "\n",
            "\n",
            "3  4  7  5  4  6  5  8  3  9  *   54\n",
            "\n",
            "\n",
            "5  2  4  0  1  0  6  6  3  7  *   34\n",
            "\n",
            "\n",
            "7  4  3  2  5  5  3  1  3  9  *   42\n",
            "\n",
            "\n",
            "*  *  *  *  *  *  *  *  *  *  \n",
            "\n",
            "45 37 42 38 42 43 39 51 33 62 "
          ]
        }
      ]
    },
    {
      "cell_type": "code",
      "source": [],
      "metadata": {
        "id": "MwoxloZwAJBY"
      },
      "execution_count": null,
      "outputs": []
    }
  ]
}