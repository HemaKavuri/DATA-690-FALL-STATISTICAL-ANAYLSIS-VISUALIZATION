{
  "nbformat": 4,
  "nbformat_minor": 0,
  "metadata": {
    "colab": {
      "provenance": [],
      "collapsed_sections": [],
      "authorship_tag": "ABX9TyP/sRUAYg/TnDWjRM0o13KI",
      "include_colab_link": true
    },
    "kernelspec": {
      "name": "python3",
      "display_name": "Python 3"
    },
    "language_info": {
      "name": "python"
    }
  },
  "cells": [
    {
      "cell_type": "markdown",
      "metadata": {
        "id": "view-in-github",
        "colab_type": "text"
      },
      "source": [
        "<a href=\"https://colab.research.google.com/github/HemaKavuri/DATA-690-FALL-STATISTICAL-ANAYLSIS-VISUALIZATION/blob/main/Assignment_02/Assignment_02_HemaKavuri.ipynb\" target=\"_parent\"><img src=\"https://colab.research.google.com/assets/colab-badge.svg\" alt=\"Open In Colab\"/></a>"
      ]
    },
    {
      "cell_type": "markdown",
      "source": [
        "# Assignment_02"
      ],
      "metadata": {
        "id": "KkQCj8sCzyQB"
      }
    },
    {
      "cell_type": "markdown",
      "source": [
        "#### This part of the code inputs 10 integers from the user into a list."
      ],
      "metadata": {
        "id": "uT2OlhMZ0Qlh"
      }
    },
    {
      "cell_type": "code",
      "execution_count": 1,
      "metadata": {
        "colab": {
          "base_uri": "https://localhost:8080/"
        },
        "id": "GfNTJxp3YymZ",
        "outputId": "ca7b901e-9dbb-4298-81b3-98ea7498499f"
      },
      "outputs": [
        {
          "output_type": "stream",
          "name": "stdout",
          "text": [
            "enter an integer 1\n",
            "enter an integer 2\n",
            "enter an integer abd\n",
            "you must enter only integer values\n",
            "enter an integer 3\n",
            "enter an integer 4\n",
            "enter an integer 5\n",
            "enter an integer test\n",
            "you must enter only integer values\n",
            "enter an integer 6\n",
            "enter an integer 7\n",
            "enter an integer 8\n",
            "enter an integer 9\n",
            "enter an integer 10\n",
            "\n",
            "\n",
            "List of Integers entered  [1, 2, 3, 4, 5, 6, 7, 8, 9, 10]\n"
          ]
        }
      ],
      "source": [
        "integer_list=[]\n",
        "c=0\n",
        "while (c<10):\n",
        "  try:\n",
        "    number=int(input(\"enter an integer \"))\n",
        "    integer_list.append(number)\n",
        "    c+=1\n",
        "  except:\n",
        "      print(\"you must enter only integer values\") \n",
        "print(\"\\n\")\n",
        "print(\"List of Integers entered \",integer_list)"
      ]
    },
    {
      "cell_type": "markdown",
      "source": [
        "#### Here two functions are defined to find the minimum and maximum values in the list."
      ],
      "metadata": {
        "id": "JrNcwxQA3uWU"
      }
    },
    {
      "cell_type": "code",
      "source": [
        "def Minimum_value(a):\n",
        "  min=integer_list[0]\n",
        "  for i in range(1,10):\n",
        "    if(integer_list[i]<min):\n",
        "      min=integer_list[i]\n",
        "  return min   \n",
        "def Maximum_value(a):\n",
        "  max=integer_list[0]\n",
        "  for i in range(1,10):\n",
        "    if(integer_list[i]>max):\n",
        "      max=integer_list[i]\n",
        "  return max "
      ],
      "metadata": {
        "id": "EEnxvdL33s68"
      },
      "execution_count": 2,
      "outputs": []
    },
    {
      "cell_type": "markdown",
      "source": [
        "#### Here functions are defined to find the range, mean, variance and standard deviation of the values entered."
      ],
      "metadata": {
        "id": "Qh5_gZXnzwlc"
      }
    },
    {
      "cell_type": "code",
      "source": [
        "def Range_value(a):\n",
        "   return (Minimum_value(integer_list),Maximum_value(integer_list))\n",
        "\n",
        "def Mean_value(a):\n",
        "  mean=0\n",
        "  total=0\n",
        "  for i in range(10):\n",
        "     total+=integer_list[i]\n",
        "  mean=(total)/len(a)\n",
        "  return mean\n",
        "def Variance_value(a):\n",
        "  var =sum((i-Mean_value(a))**2 for i in a)/(len(a)-1)\n",
        "  return var\n",
        "\n",
        "def Standard_Deviation_value(a):\n",
        "  return(Variance_value(a)**0.5)"
      ],
      "metadata": {
        "id": "V8BPyGgT3_jy"
      },
      "execution_count": 3,
      "outputs": []
    },
    {
      "cell_type": "markdown",
      "source": [
        "#### Here the above defined functions are called. This returns the entered numbers and the statistics."
      ],
      "metadata": {
        "id": "wfU2MKAF4Ecs"
      }
    },
    {
      "cell_type": "code",
      "source": [
        "print(\"***OUTPUT values are*** \\n\")\n",
        "print(\"List of Integers entered \",integer_list)\n",
        "print(\"Minimum value =\",Minimum_value(integer_list))\n",
        "print(\"Maxmimum value =\",Maximum_value(integer_list))\n",
        "print(\"Range =\",Range_value(integer_list))\n",
        "print(\"Mean =\",Mean_value(integer_list))\n",
        "print(\"Variance =\",Variance_value(integer_list))\n",
        "print(\"Standard Deviation =\",Standard_Deviation_value(integer_list))"
      ],
      "metadata": {
        "colab": {
          "base_uri": "https://localhost:8080/"
        },
        "id": "mNU7g0Pa4DtL",
        "outputId": "7fb8d72a-427f-49e8-f191-573e2218a630"
      },
      "execution_count": 4,
      "outputs": [
        {
          "output_type": "stream",
          "name": "stdout",
          "text": [
            "***OUTPUT values are*** \n",
            "\n",
            "List of Integers entered  [1, 2, 3, 4, 5, 6, 7, 8, 9, 10]\n",
            "Minimum value = 1\n",
            "Maxmimum value = 10\n",
            "Range = (1, 10)\n",
            "Mean = 5.5\n",
            "Variance = 9.166666666666666\n",
            "Standard Deviation = 3.0276503540974917\n"
          ]
        }
      ]
    }
  ]
}